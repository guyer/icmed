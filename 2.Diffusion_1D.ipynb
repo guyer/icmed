{
 "cells": [
  {
   "cell_type": "markdown",
   "id": "c9c928f0-6329-4593-9daa-d13e1abc5341",
   "metadata": {},
   "source": [
    "# Diffusion 1D"
   ]
  },
  {
   "cell_type": "markdown",
   "id": "e95197a4-d1e8-4b9a-9a6a-38cc418d77e5",
   "metadata": {},
   "source": [
    "## Question 2(a)\n",
    "\n",
    "Let's break down the [problem statement](0.Kinetics_Module_Problems.ipynb) for question **2(a)**:"
   ]
  },
  {
   "cell_type": "markdown",
   "id": "15a05eb0-ae48-4c02-b9f8-2919666abce0",
   "metadata": {},
   "source": [
    "### Declare simulation parameters"
   ]
  },
  {
   "cell_type": "markdown",
   "id": "87276d03-04f1-4cb2-91cb-45d9ab56d058",
   "metadata": {},
   "source": [
    "**note:**\n",
    "- Distances are in micrometers\n",
    "- Diffusion coefficient `DP` is in micrometers squared per second\n",
    "- Times are in seconds"
   ]
  },
  {
   "cell_type": "markdown",
   "id": "33c6bdc2-f14f-4dad-ab88-656267e018bd",
   "metadata": {},
   "source": [
    "> A $7~\\mathrm{\\mu m}$ thick B-doped (p-type) Si wafer is annealed at $950~\\mathrm{{}^\\circ C}$ while in equilibrium with a gas containing P vapor (donor)."
   ]
  },
  {
   "cell_type": "code",
   "execution_count": null,
   "id": "2dec2590-e65d-4403-b23e-c2bc9d5760f7",
   "metadata": {},
   "outputs": [],
   "source": [
    "wafer_thickness = 7.0"
   ]
  },
  {
   "cell_type": "markdown",
   "id": "5fa37ddf-74f6-47a1-97d1-1c73614dc831",
   "metadata": {},
   "source": [
    "> The concentration of B in the wafer is $2\\times 10^{17} / \\mathrm{cm^3} = 2\\times 10^5/\\mathrm{\\mu m^3}$."
   ]
  },
  {
   "cell_type": "code",
   "execution_count": null,
   "id": "a492d1a0-0185-4adc-ab5b-b23a198467da",
   "metadata": {},
   "outputs": [],
   "source": [
    "CB = 2e5 # Bulk concentration of boron"
   ]
  },
  {
   "cell_type": "markdown",
   "id": "9d347335-ee22-4640-bc50-ac5ff68fd616",
   "metadata": {},
   "source": [
    "> P diffusivity in this system at this condition is $D_P\\approx 10^{-14}~\\mathrm{cm^2/s} = 10^{-6}~\\mathrm{\\mu m^2/s}$."
   ]
  },
  {
   "cell_type": "code",
   "execution_count": null,
   "id": "b59dfcf1-9eba-4851-80c8-930f79633286",
   "metadata": {},
   "outputs": [],
   "source": [
    "DP = 1.0e-6 # Diffusion coefficient"
   ]
  },
  {
   "cell_type": "markdown",
   "id": "8465a0ff-08c6-4bb6-ac3b-7770e4641fc2",
   "metadata": {},
   "source": [
    "> Assume that the concentration of P at the surface in this case is $10^{21}/\\mathrm{cm^3} = 10^9/\\mathrm{\\mu m^3}$."
   ]
  },
  {
   "cell_type": "code",
   "execution_count": null,
   "id": "3f849d8e-ffae-42e9-bfe1-a763ecce2ac6",
   "metadata": {},
   "outputs": [],
   "source": [
    "CPsurf = 1.0e9 # Surface concentration of phosphorus"
   ]
  },
  {
   "cell_type": "markdown",
   "id": "4145c305-5d9e-4774-bddf-34525a542926",
   "metadata": {},
   "source": [
    "> To fabricate a device with a junction at approximately $1~\\mathrm{\\mu m}$ from the surface, one would like to match the P and B concentrations at a depth of $1~\\mathrm{\\mu m}$."
   ]
  },
  {
   "cell_type": "code",
   "execution_count": null,
   "id": "2924a959-3514-4163-bbdc-eab3207921aa",
   "metadata": {},
   "outputs": [],
   "source": [
    "junction_depth = 1.0 # Distance at which we will output concentration"
   ]
  },
  {
   "cell_type": "markdown",
   "id": "3812b18d-b88c-43b8-a715-de5899f696f2",
   "metadata": {},
   "source": [
    "> Try time steps of 2, 20 and 200 and 2000 s.  For a time of 10 hours and a distance of 1 μm, what value of time step gives agreement with the analytical solution to within one percent?"
   ]
  },
  {
   "cell_type": "code",
   "execution_count": null,
   "id": "7dd95f68-f260-4b0b-8029-bde5798c60ac",
   "metadata": {},
   "outputs": [],
   "source": [
    "dt = 20.0 # Time step\n",
    "final_time = 36000 # Total amount of time simulated"
   ]
  },
  {
   "cell_type": "markdown",
   "id": "65e1cd81-9c18-4238-8a82-2f0dc93dff42",
   "metadata": {},
   "source": [
    "### Import FiPy"
   ]
  },
  {
   "cell_type": "markdown",
   "id": "6f3059b8-c5c6-4e07-b882-a869199fd8a1",
   "metadata": {},
   "source": [
    "[FiPy](https://www.ctcms.nist.gov/fipy) is an Open Source library for solving partial differential equations, written in Python. We'll use it for the rest of this example (aliased as `fp`)."
   ]
  },
  {
   "cell_type": "code",
   "execution_count": null,
   "id": "6f85ac0c-923d-45e0-a074-ee0dcd69bf07",
   "metadata": {},
   "outputs": [],
   "source": [
    "import fipy as fp"
   ]
  },
  {
   "cell_type": "markdown",
   "id": "7c468ac4-0155-4a3d-b128-fa7f3db48260",
   "metadata": {},
   "source": [
    "### Define simulation domain"
   ]
  },
  {
   "cell_type": "markdown",
   "id": "111e8963-90de-4f0c-bc9f-89f82ade91c8",
   "metadata": {},
   "source": [
    "Subdivide the 1D domain into 700 \"cells\" of $10~\\mathrm{nm}$ width (you can experiment with the effect on the error by changing this value)."
   ]
  },
  {
   "cell_type": "code",
   "execution_count": null,
   "id": "710754c2-6195-494d-8cee-a2b62429473f",
   "metadata": {},
   "outputs": [],
   "source": [
    "nx = 700 # number of grid elements\n",
    "\n",
    "mesh = fp.Grid1D(nx=nx, Lx=wafer_thickness)"
   ]
  },
  {
   "cell_type": "markdown",
   "id": "8044ce34-48db-4cb7-b8a0-04ecb3375512",
   "metadata": {},
   "source": [
    "### Define solution variable(s)"
   ]
  },
  {
   "cell_type": "markdown",
   "id": "fd5c3034-8328-4d66-9ebe-a628a85f4747",
   "metadata": {},
   "source": [
    "Declare memory storage for the P concentration across the cells of the mesh defined above. Initialize the concentration to zero and inform FiPy that the concentration will evolve in time.\n",
    "$$C_P(x, t=0) = 0$$"
   ]
  },
  {
   "cell_type": "code",
   "execution_count": null,
   "id": "6c41d17d-ff51-47c6-8664-bcddb2d23016",
   "metadata": {},
   "outputs": [],
   "source": [
    "CP = fp.CellVariable(mesh=mesh, name=\"$C_P$\", value=0.0, hasOld=True)"
   ]
  },
  {
   "cell_type": "markdown",
   "id": "299fbd0d-ef93-4fb4-b323-12f54af393af",
   "metadata": {},
   "source": [
    "### Define analytical solution"
   ]
  },
  {
   "cell_type": "markdown",
   "id": "cc0cf1f3-2115-48c9-b9af-778b542b21e7",
   "metadata": {},
   "source": [
    "> The following analytical formula determines the concentration of P at a distance $x = 1~\\mathrm{\\mu m}$ from the surface to be equal to the concentration of B. \n",
    "> \n",
    "> \\begin{align}\n",
    "  C_P(x, t) = C_{P,\\text{surface}} \\left(1 - \\mathrm{erf} \\frac{x}{2\\sqrt{D_P t}}\\right)\n",
    "  \\end{align}\n",
    "> \n",
    "> **Note:** The `erf` function and its inverse can be evaluated using SciPy (you can also consider using the complementary error function, `erfc`, which is one minus the error function)."
   ]
  },
  {
   "cell_type": "code",
   "execution_count": null,
   "id": "bc6d87e1-d2bc-44c7-8806-e1f8f3f4b351",
   "metadata": {},
   "outputs": [],
   "source": [
    "from scipy.special import erf\n",
    "\n",
    "def analytical(x, t):\n",
    "    return CPsurf * (1 - erf(x / (2 * fp.numerix.sqrt(DP * t))))"
   ]
  },
  {
   "cell_type": "code",
   "execution_count": null,
   "id": "65b7fbfa-e419-4b71-9a60-aa73d67d9210",
   "metadata": {},
   "outputs": [],
   "source": [
    "CPanalytical = fp.CellVariable(mesh=mesh, name=\"$C_{P,\\text{analytical}}$\")\n",
    "CPanalytical.setValue(analytical(x=mesh.x, t=final_time))"
   ]
  },
  {
   "cell_type": "markdown",
   "id": "8f8a27e9-5bc1-4d39-a68d-69c5c3199ca4",
   "metadata": {},
   "source": [
    "We can also write the above equation as\n",
    "\n",
    "\\begin{align}\n",
    "  C_P(x, t) = C_{P,\\text{surface}} \\mathrm{erfc} \\frac{x}{2\\sqrt{D_P t}}\n",
    "\\end{align}"
   ]
  },
  {
   "cell_type": "code",
   "execution_count": null,
   "id": "5ab9cb6b-9efc-44ce-8c77-40718801c88f",
   "metadata": {},
   "outputs": [],
   "source": [
    "from scipy.special import erfc\n",
    "\n",
    "def analyticalc(x, t):\n",
    "    return CPsurf * erfc(x / (2 * fp.numerix.sqrt(DP * t)))"
   ]
  },
  {
   "cell_type": "markdown",
   "id": "a3101ce3-ba91-41c5-a59e-8c51e4784c84",
   "metadata": {},
   "source": [
    "What are the advantages of one form over the other? (**Hint:** Try plotting each over a range of $t$ values.)"
   ]
  },
  {
   "cell_type": "markdown",
   "id": "e94ea671-a86b-4031-8e07-a53b7ee2d307",
   "metadata": {},
   "source": [
    "**note:** It's also possible to import the `sqrt()` function directly from either the `math` or `numpy` package. `fp.numerix` is a superset of `numpy` that customizes some math operations; it's generally best to just use `fp.numerix` everywhere when working with FiPy. \n",
    "\n",
    "For comparison:\n",
    "- [`math`](https://docs.python.org/3/library/math.html) performs calculations with individual numbers.\n",
    "- [`numpy`](https://numpy.org) performs calculations with arrays of numbers.\n",
    "- [`fipy.numerix`](https://www.ctcms.nist.gov/fipy/fipy/generated/fipy.tools.html#module-fipy.tools.numerix) performs calculations with fields of numbers that are located on a FiPy `Mesh`."
   ]
  },
  {
   "cell_type": "markdown",
   "id": "4e2c60d3-aeb9-4805-9a51-cf834e5fadb6",
   "metadata": {},
   "source": [
    "### Define equation(s)"
   ]
  },
  {
   "cell_type": "markdown",
   "id": "9992fc63-3b86-4a39-9918-f474aa461c04",
   "metadata": {},
   "source": [
    "We want to solve [Fick's 2nd Law of diffusion](https://en.wikipedia.org/wiki/Fick%27s_laws_of_diffusion#Fick's_second_law), the 1D partial differential equation\n",
    "$$\\frac{\\partial C_P}{\\partial t} = \\frac{\\partial}{\\partial x}\\left(D_P \\frac{\\partial C_P}{\\partial x}\\right)$$"
   ]
  },
  {
   "cell_type": "code",
   "execution_count": null,
   "id": "fdac9d91-97f5-4270-8e10-b147b70b2b5b",
   "metadata": {},
   "outputs": [],
   "source": [
    "eq = fp.TransientTerm(var=CP) == fp.DiffusionTerm(coeff=DP, var=CP)"
   ]
  },
  {
   "cell_type": "markdown",
   "id": "2f698d93-3c5f-445e-8a62-775ee54d8c0d",
   "metadata": {},
   "source": [
    "### Specify boundary condition(s)"
   ]
  },
  {
   "cell_type": "markdown",
   "id": "31fae4fb-2d32-42dd-885c-b45a33a17d57",
   "metadata": {},
   "source": [
    "\\begin{align}\n",
    "    C_P(x=0, t) &= C_{P,\\text{surface}} \\\\\n",
    "    \\left.\\frac{\\partial C_P(x, t)}{\\partial x}\\right|_{x=\\mathtt{wafer\\underline\\ thickness}} &= 0\n",
    "\\end{align}\n",
    "\n",
    "FiPy's boundary conditions are no-flux by default. We define a [Dirichlet condition](https://en.wikipedia.org/wiki/Dirichlet_boundary_condition) to fix the concentration at the left-hand side of the domain, which we take to be the wafer surface."
   ]
  },
  {
   "cell_type": "code",
   "execution_count": null,
   "id": "ab291941-fcab-4bbc-a74d-caae46c7cd45",
   "metadata": {},
   "outputs": [],
   "source": [
    "CP.constrain(CPsurf, where=mesh.facesLeft)"
   ]
  },
  {
   "cell_type": "markdown",
   "id": "e6bd0036-7ff3-4604-8b45-a1cbe7d5e956",
   "metadata": {},
   "source": [
    "### Create viewer"
   ]
  },
  {
   "cell_type": "markdown",
   "id": "8f7adc30-bff6-4241-a411-eb38c5ebcf2b",
   "metadata": {},
   "source": [
    "`fp.Viewer()` is a general purpose routine that does its best to create a visualization using a variety of different plotting packages. Explicitly using the [`matplotlib`](https://matplotlib.org) package enables customization for more informative plots."
   ]
  },
  {
   "cell_type": "code",
   "execution_count": null,
   "id": "7b1b18cd-097c-4c81-8bbc-847f8bd28b21",
   "metadata": {},
   "outputs": [],
   "source": [
    "from matplotlib import pyplot as plt"
   ]
  },
  {
   "cell_type": "code",
   "execution_count": null,
   "id": "8ca78cac-5609-4d26-a109-287c6e32bfbb",
   "metadata": {},
   "outputs": [],
   "source": [
    "fig, axs = plt.subplots(2, 1, sharex=True)\n",
    "\n",
    "logviewer = fp.MatplotlibViewer(vars=(CP, CPanalytical),\n",
    "                                datamin=1e-8, datamax=CPsurf,\n",
    "                                axes=axs[0], log=True, legend=\"upper right\")\n",
    "axs[0].set_ylabel(r\"$C_p(x,t) / \\mathrm{\\mu m}^{-3}$\")\n",
    "\n",
    "linviewer = fp.MatplotlibViewer(vars=(CP, CPanalytical),\n",
    "                                datamin=0., datamax=CPsurf,\n",
    "                                axes=axs[1], log=False, legend=\"upper right\")\n",
    "axs[1].set_ylabel(r\"$C_p(x,t) / \\mathrm{\\mu m}^{-3}$\")\n",
    "axs[1].set_xlabel(r\"$x / \\mathrm{\\mu m}$\")\n",
    "\n",
    "plt.tight_layout()"
   ]
  },
  {
   "cell_type": "markdown",
   "id": "b619aa72-e347-4c57-ae52-d0f54e2cd6f1",
   "metadata": {},
   "source": [
    "### Solve problem"
   ]
  },
  {
   "cell_type": "code",
   "execution_count": null,
   "id": "c375cd74-ef5a-49d5-9bc4-5f74c34813be",
   "metadata": {},
   "outputs": [],
   "source": [
    "# FiPy 3.4.3 has a memory leak when using PETSc\n",
    "from petsc4py import PETSc"
   ]
  },
  {
   "cell_type": "code",
   "execution_count": null,
   "id": "a0dc2425-d1b6-4404-a0f9-e4d6949fae45",
   "metadata": {},
   "outputs": [],
   "source": [
    "t = 0\n",
    "while t <= final_time:\n",
    "    t=t+dt\n",
    "    CP.updateOld()\n",
    "    eq.solve(dt=dt)\n",
    "    if t % 1800 == 0:\n",
    "        cm = CP([junction_depth],order=1) # interpolate the value at depth of interest\n",
    "        ca = analyticalc(x=junction_depth, t=t)\n",
    "        logviewer.plot()\n",
    "        linviewer.plot()\n",
    "\n",
    "        ## for 2.11, uncomment the following lines\n",
    "        # logviewer.plot(filename=f\"{t}-log-plot.png\")\n",
    "        # linviewer.plot(filename=f\"{t}-lin-plot.png\")\n",
    "        # fp.TSVViewer(vars=CP).plot(filename=f\"{t}-data.tsv\")\n",
    "\n",
    "        print(f\"\"\"\n",
    "        DP = {DP} µm**2/s\n",
    "        dt = {dt} s\n",
    "        time = {t} s\n",
    "        concentration at output distance = {cm} / µm**3\n",
    "        analytical concentration at output distance = {ca} / µm**3\n",
    "        error = {100 * (cm - ca) / ca} %\n",
    "        \"\"\")\n",
    "        \n",
    "    # FiPy 3.4.3 has a memory leak\n",
    "    PETSc.garbage_cleanup()"
   ]
  }
 ],
 "metadata": {
  "kernelspec": {
   "display_name": "Python3.8 (icmed)",
   "language": "python",
   "name": "icmed"
  },
  "language_info": {
   "codemirror_mode": {
    "name": "ipython",
    "version": 3
   },
   "file_extension": ".py",
   "mimetype": "text/x-python",
   "name": "python",
   "nbconvert_exporter": "python",
   "pygments_lexer": "ipython3",
   "version": "3.8.16"
  },
  "toc-showcode": false
 },
 "nbformat": 4,
 "nbformat_minor": 5
}
